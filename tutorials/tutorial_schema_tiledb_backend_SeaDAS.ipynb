{
 "cells": [
  {
   "cell_type": "code",
   "execution_count": 1,
   "id": "cde0f79b",
   "metadata": {},
   "outputs": [],
   "source": [
    "import h5py\n",
    "import tiledb\n",
    "import numpy as np\n",
    "import time\n",
    "import os\n",
    "import glob\n",
    "import pandas as pd\n",
    "from datetime import datetime, timedelta\n",
    "from tqdm import tqdm"
   ]
  },
  {
   "cell_type": "code",
   "execution_count": 2,
   "id": "627c94ff",
   "metadata": {},
   "outputs": [],
   "source": [
    "rootpath = '/data/data3/seadasn_2022-10-07_2023-01-13/'\n",
    "flist = sorted(glob.glob(rootpath + \"/seadasn_2022-12-*\"))"
   ]
  },
  {
   "cell_type": "code",
   "execution_count": 3,
   "id": "5309ea6c",
   "metadata": {},
   "outputs": [],
   "source": [
    "# Create a configuration object\n",
    "config = tiledb.Config()\n",
    "\n",
    "# Set configuration parameters\n",
    "config[\"vfs.s3.scheme\"] = \"http\"\n",
    "config[\"vfs.s3.region\"] = \"\"\n",
    "config[\"vfs.s3.endpoint_override\"] = \"dasway.ess.washington.edu:9000\"\n",
    "config[\"vfs.s3.use_virtual_addressing\"] = \"false\"\n",
    "config[\"vfs.s3.aws_access_key_id\"] = \"this-is-key\"\n",
    "config[\"vfs.s3.aws_secret_access_key\"] = \"this-is-secret\"\n",
    "config[\"sm.consolidation.mode\"] = \"fragment_meta\"\n",
    "config[\"sm.vacuum.mode\"] = \"fragment_meta\"\n",
    "\n",
    "# config[\"sm.consolidation.timestamp_start\"] = \"0\"\n",
    "# config[\"sm.consolidation.timestamp_end\"] = \"1\"\n",
    "\n",
    "# Create contex\n",
    "ctx = tiledb.Ctx(config)\n",
    "bucket = f\"s3://seadas-december-2022-tiledb/\""
   ]
  },
  {
   "cell_type": "code",
   "execution_count": null,
   "id": "deecfbd4",
   "metadata": {},
   "outputs": [],
   "source": [
    "tiledb.consolidate(f\"{bucket}/RawData\", ctx = ctx)"
   ]
  },
  {
   "cell_type": "code",
   "execution_count": 4,
   "id": "cc92ee7e",
   "metadata": {},
   "outputs": [],
   "source": [
    "dim1 = tiledb.Dim(name=\"time\", domain=(0, 100*60*60*24*31-1), tile=6000, dtype=np.uint32, \n",
    "                  filters = tiledb.FilterList([tiledb.DoubleDeltaFilter(),tiledb.GzipFilter(level=-1)]))\n",
    "dim2 = tiledb.Dim(name=\"channel\", domain=(0, 2089-1), tile=5, dtype=np.uint32,\n",
    "                  filters = tiledb.FilterList([tiledb.DoubleDeltaFilter(),tiledb.GzipFilter(level=-1)]))\n",
    "\n",
    "dom = tiledb.Domain(dim2, dim1)\n",
    "rawdata = tiledb.Attr(name=\"RawData\", dtype=np.float32, \n",
    "                       filters=tiledb.FilterList([tiledb.ByteShuffleFilter(), tiledb.LZ4Filter(level = 5)]))\n",
    "schema = tiledb.ArraySchema(domain=dom, sparse=False, attrs=[rawdata])\n",
    "tiledb.Array.create(f\"{bucket}/RawData/\", schema = schema, ctx=ctx)"
   ]
  },
  {
   "cell_type": "code",
   "execution_count": 5,
   "id": "64e33765",
   "metadata": {},
   "outputs": [],
   "source": [
    "with tiledb.open(f\"{bucket}/RawData\", 'w', ctx = ctx) as A:\n",
    "    A.meta['overview.location'] = \"Seattle, WA\"\n",
    "    A.meta['overview.deployment_type'] = 'temporary'\n",
    "    A.meta['overview.network'] = \"N/A\"\n",
    "    A.meta['overview.site_name'] = \"SeaDAS-N\"\n",
    "    A.meta['overview.number_of_interrogators'] = 1\n",
    "    A.meta['overview.principle_investigators'] = \"University of Washington\"\n",
    "    A.meta['overview.start_datetime'] = \"2022-12-01\"\n",
    "    A.meta['overview.end_datetime'] = \"2022-12-31\"\n",
    "    A.meta['overview.purpose_of_collection'] = \"experiment\"\n",
    "    A.meta['overview.collection_mode'] = \"continuous\"\n",
    "    A.meta['overview.comment'] = \"N/A\"\n",
    "\n",
    "    A.meta['cable_and_fiber.cable_fiber_id'] = \"N/A\"\n",
    "    A.meta['cable_and_fiber.cable_start_time'] = \"N/A\"\n",
    "    A.meta['cable_and_fiber.cable_end_time'] = \"N/A\"\n",
    "    A.meta['cable_and_fiber.cable_characteristics'] = \"N/A\"\n",
    "    A.meta['cable_and_fiber.cable_environment'] = \"N/A\"\n",
    "    A.meta['cable_and_fiber.cable_model'] = \"N/A\"\n",
    "    A.meta['cable_and_fiber.cable_diameter'] = \"N/A\"\n",
    "    A.meta['cable_and_fiber.cable_coordinates'] = \"N/A\"\n",
    "    A.meta['cable_and_fiber.cable_connector_coordinates'] = \"N/A\"\n",
    "    A.meta['cable_and_fiber.fiber_mode'] = \"continuous\"\n",
    "    A.meta['cable_and_fiber.fiber_refraction_index'] = \"N/A\"\n",
    "    A.meta['cable_and_fiber.attenuation'] = \"N/A\"\n",
    "    A.meta['cable_and_fiber.fiber_geometry'] = \"N/A\"\n",
    "    A.meta['cable_and_fiber.winding_angle'] = \"N/A\"\n",
    "    A.meta['cable_and_fiber.fiber_start_location'] = \"N/A\"\n",
    "    A.meta['cable_and_fiber.fiber_end_location'] = \"N/A\"\n",
    "    A.meta['cable_and_fiber.fiber_length'] = \"N/A\"\n",
    "    A.meta['cable_and_fiber.comment'] = \"N/A\"\n",
    "\n",
    "    A.meta['interrogator.interrogator_id'] = \"N/A\"\n",
    "    A.meta['interrogator.manufacturer'] = \"N/A\"\n",
    "    A.meta['interrogator.model'] = \"N/A\"\n",
    "    A.meta['interrogator.unit_of_measure'] = \"N/A\"\n",
    "    A.meta['interrogator.comment'] = \"N/A\"\n",
    "\n",
    "    A.meta['acquisition.acquisition_id'] = \"N/A\"\n",
    "    A.meta['acquisition.acquisition_start_time'] = \"2022-12-01T00:00:00.000000\"\n",
    "    A.meta['acquisition.acquisition_end_time'] = \"2022-12-31T23:59:59.990000\"\n",
    "    A.meta['acquisition.acquisition_sample_rate'] = 100\n",
    "    A.meta['acquisition.pulse_repetition_rate'] = \"N/A\"\n",
    "    A.meta['acquisition.interrogator_rate'] = \"N/A\"\n",
    "    A.meta['acquisition.pulse_width'] = \"N/A\"\n",
    "    A.meta['acquisition.gauge_length'] = \"N/A\"\n",
    "    A.meta['acquisition.number_of_channels'] = \"N/A\"\n",
    "    A.meta['acquisition.channel_spacing'] = \"N/A\"\n",
    "    A.meta['acquisition.archived_sample_rate'] = \"N/A\"\n",
    "    A.meta['acquisition.unit_of_measure'] = \"N/A\"\n",
    "    A.meta['acquisition.decimation'] = \"N/A\"\n",
    "    A.meta['acquisition.filtering'] = \"N/A\"\n",
    "    A.meta['acquisition.comment'] = \"N/A\"\n",
    "\n"
   ]
  },
  {
   "cell_type": "code",
   "execution_count": 8,
   "id": "8f68f455",
   "metadata": {},
   "outputs": [
    {
     "name": "stdout",
     "output_type": "stream",
     "text": [
      "1: working on GMT\n",
      "2: working on GMT\n",
      "3: working on GMT\n",
      "4: working on GMT\n",
      "5: working on GMT\n",
      "6: working on GMT\n",
      "7: working on GMT\n",
      "8: working on GMT\n",
      "9: working on GMT\n",
      "10: working on GMT\n"
     ]
    }
   ],
   "source": [
    "# sequentially convert 10 files\n",
    "for idf, f in enumerate(flist[:10]):\n",
    "    zname = f.split(\"_\")[-1][:-3]\n",
    "    print(f\"{idf+1}: working on {zname}\")\n",
    "    f = h5py.File(f,'r')\n",
    "\n",
    "    with tiledb.open(f\"{bucket}/RawData\", 'w', ctx = ctx) as A:\n",
    "        A[:, idf * 6000 : (idf+1) * 6000] = f['/Acquisition/Raw[0]/RawData'][:, :]\n",
    "\n",
    "    f.close()"
   ]
  },
  {
   "cell_type": "code",
   "execution_count": null,
   "id": "e3f2e143",
   "metadata": {},
   "outputs": [],
   "source": [
    "# Create a configuration object\n",
    "config = tiledb.Config()\n",
    "\n",
    "# Set configuration parameters\n",
    "config[\"vfs.s3.scheme\"] = \"http\"\n",
    "config[\"vfs.s3.region\"] = \"\"\n",
    "config[\"vfs.s3.endpoint_override\"] = \"dasway.ess.washington.edu:9000\"\n",
    "config[\"vfs.s3.use_virtual_addressing\"] = \"false\"\n",
    "config[\"vfs.s3.aws_access_key_id\"] = \"niyiyu\"\n",
    "config[\"vfs.s3.aws_secret_access_key\"] = \"huayuAN553088447\"\n",
    "config[\"sm.consolidation.mode\"] = \"fragment_meta\"\n",
    "config[\"sm.vacuum.mode\"] = \"fragment_meta\"\n",
    "\n",
    "config[\"sm.consolidation.timestamp_start\"] = 5\n",
    "config[\"sm.consolidation.timestamp_end\"] = 9\n",
    "\n",
    "# Create contex\n",
    "ctx = tiledb.Ctx(config)\n",
    "bucket = f\"s3://seadas-december-2022-tiledb/\""
   ]
  },
  {
   "cell_type": "code",
   "execution_count": null,
   "id": "a51f407e",
   "metadata": {},
   "outputs": [],
   "source": [
    "A = tiledb.open(f\"{bucket}/RawData\", 'r', ctx = ctx)\n",
    "dict(A.meta)"
   ]
  },
  {
   "cell_type": "code",
   "execution_count": 14,
   "id": "f501767d",
   "metadata": {},
   "outputs": [
    {
     "data": {
      "text/plain": [
       "OrderedDict([('RawData',\n",
       "              array([15.90601   , -0.08085087, 55.418667  , ..., -0.2357815 ,\n",
       "                     -0.19828375, -0.5492738 ], dtype=float32))])"
      ]
     },
     "execution_count": 14,
     "metadata": {},
     "output_type": "execute_result"
    }
   ],
   "source": [
    "d"
   ]
  },
  {
   "cell_type": "code",
   "execution_count": null,
   "id": "6ac33f7a",
   "metadata": {},
   "outputs": [],
   "source": []
  }
 ],
 "metadata": {
  "kernelspec": {
   "display_name": "das",
   "language": "python",
   "name": "das"
  },
  "language_info": {
   "codemirror_mode": {
    "name": "ipython",
    "version": 3
   },
   "file_extension": ".py",
   "mimetype": "text/x-python",
   "name": "python",
   "nbconvert_exporter": "python",
   "pygments_lexer": "ipython3",
   "version": "3.8.16"
  }
 },
 "nbformat": 4,
 "nbformat_minor": 5
}
