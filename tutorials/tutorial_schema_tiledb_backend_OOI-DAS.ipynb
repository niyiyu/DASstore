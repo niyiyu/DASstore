{
 "cells": [
  {
   "cell_type": "code",
   "execution_count": 1,
   "id": "8889bdd8",
   "metadata": {},
   "outputs": [],
   "source": [
    "import tiledb\n",
    "import glob\n",
    "import h5py\n",
    "import time\n",
    "import numpy as np\n",
    "import os"
   ]
  },
  {
   "cell_type": "code",
   "execution_count": null,
   "id": "86bd69e8",
   "metadata": {},
   "outputs": [],
   "source": [
    "flist = glob.glob(\"/data/data2/south-data-ejm/hdd/South-C1-LR-95km-P1kHz-GL50m-SP2m-FS200Hz_2021-11-01T16_09_15-0700/*2021-11-02*\")\n",
    "flist = sorted(flist)"
   ]
  },
  {
   "cell_type": "code",
   "execution_count": null,
   "id": "676f86c9",
   "metadata": {},
   "outputs": [],
   "source": [
    "# Create a configuration object\n",
    "config = tiledb.Config()\n",
    "\n",
    "# Set configuration parameters\n",
    "config[\"vfs.s3.scheme\"] = \"http\"\n",
    "config[\"vfs.s3.region\"] = \"\"\n",
    "config[\"vfs.s3.endpoint_override\"] = \"pnwstore1.ess.washington.edu:9000\"\n",
    "config[\"vfs.s3.use_virtual_addressing\"] = \"false\"\n",
    "config[\"vfs.s3.aws_access_key_id\"] = \"this-is-key\"\n",
    "config[\"vfs.s3.aws_secret_access_key\"] = \"this-is-secret\"\n",
    "config[\"sm.consolidation.mode\"] = \"fragment_meta\"\n",
    "config[\"sm.vacuum.mode\"] = \"fragment_meta\"\n",
    "\n",
    "# Create contex\n",
    "ctx = tiledb.Ctx(config)"
   ]
  },
  {
   "cell_type": "code",
   "execution_count": null,
   "id": "3a10455f",
   "metadata": {},
   "outputs": [],
   "source": [
    "bucket = f\"s3://TileDB-OOI-DAS-{tile_size}/\"\n",
    "\n",
    "dim1 = tiledb.Dim(name=\"time\", domain=(0, 200*60*60*24*7), tile=12000, dtype=np.uint32, \n",
    "                  filters = tiledb.FilterList([tiledb.DoubleDeltaFilter(),tiledb.GzipFilter(level=-1)]))\n",
    "dim2 = tiledb.Dim(name=\"channel\", domain=(0, 47500-1), tile=tile_size, dtype=np.uint32,\n",
    "                  filters = tiledb.FilterList([tiledb.DoubleDeltaFilter(),tiledb.GzipFilter(level=-1)]))\n",
    "\n",
    "dom = tiledb.Domain(dim2, dim1)\n",
    "rawdata = tiledb.Attr(name=\"RawData\", dtype=np.int32, \n",
    "                       filters=tiledb.FilterList([tiledb.ByteShuffleFilter(), tiledb.LZ4Filter(level = 5)]))\n",
    "schema = tiledb.ArraySchema(domain=dom, sparse=False, attrs=[rawdata])\n",
    "tiledb.Array.create(f\"{bucket}/RawData/\", schema = schema, ctx=ctx)"
   ]
  },
  {
   "cell_type": "code",
   "execution_count": null,
   "id": "b6bf38b3",
   "metadata": {},
   "outputs": [],
   "source": [
    "# sequentially convert 10 files\n",
    "for idf, f in enumerate(flist[:10]):\n",
    "    zname = f.split(\"_\")[-1][:-3]\n",
    "    print(f\"{idf+1}: working on {zname}\")\n",
    "    f = h5py.File(f,'r')\n",
    "\n",
    "    with tiledb.open(f\"{bucket}/RawData\", 'w', ctx = ctx) as A:\n",
    "        A[:, idf * 12000 : (idf+1) * 12000] = f['/Acquisition/Raw[0]/RawData'][:, :]\n",
    "\n",
    "    f.close()"
   ]
  },
  {
   "cell_type": "code",
   "execution_count": null,
   "id": "1a4be4d0",
   "metadata": {},
   "outputs": [],
   "source": [
    "with tiledb.open(f\"{bucket}/RawData\", 'w', ctx = ctx) as A:\n",
    "    A.meta['overview.location'] = \"offshore oregon\"\n",
    "    A.meta['overview.deployment_type'] = 'temporary'\n",
    "    A.meta['overview.network'] = \"OO\"\n",
    "    A.meta['overview.site_name'] = \"regional cabled array\"\n",
    "    A.meta['overview.number_of_interrogators'] = 1\n",
    "    A.meta['overview.principle_investigators'] = \"University of Washington\"\n",
    "    A.meta['overview.start_datetime'] = \"2021-11-01\"\n",
    "    A.meta['overview.end_datetime'] = \"2021-11-07\"\n",
    "    A.meta['overview.purpose_of_collection'] = \"experiment\"\n",
    "    A.meta['overview.collection_mode'] = \"continuous\"\n",
    "    A.meta['overview.comment'] = \"N/A\"\n",
    "\n",
    "    A.meta['cable_and_fiber.cable_fiber_id'] = \"N/A\"\n",
    "    A.meta['cable_and_fiber.cable_start_time'] = \"N/A\"\n",
    "    A.meta['cable_and_fiber.cable_end_time'] = \"N/A\"\n",
    "    A.meta['cable_and_fiber.cable_characteristics'] = \"N/A\"\n",
    "    A.meta['cable_and_fiber.cable_environment'] = \"N/A\"\n",
    "    A.meta['cable_and_fiber.cable_model'] = \"N/A\"\n",
    "    A.meta['cable_and_fiber.cable_diameter'] = \"N/A\"\n",
    "    A.meta['cable_and_fiber.cable_coordinates'] = \"N/A\"\n",
    "    A.meta['cable_and_fiber.cable_connector_coordinates'] = \"N/A\"\n",
    "    A.meta['cable_and_fiber.fiber_mode'] = \"continuous\"\n",
    "    A.meta['cable_and_fiber.fiber_refraction_index'] = \"N/A\"\n",
    "    A.meta['cable_and_fiber.attenuation'] = \"N/A\"\n",
    "    A.meta['cable_and_fiber.fiber_geometry'] = \"N/A\"\n",
    "    A.meta['cable_and_fiber.winding_angle'] = \"N/A\"\n",
    "    A.meta['cable_and_fiber.fiber_start_location'] = \"N/A\"\n",
    "    A.meta['cable_and_fiber.fiber_end_location'] = \"N/A\"\n",
    "    A.meta['cable_and_fiber.fiber_length'] = \"N/A\"\n",
    "    A.meta['cable_and_fiber.comment'] = \"N/A\"\n",
    "\n",
    "    A.meta['interrogator.interrogator_id'] = \"N/A\"\n",
    "    A.meta['interrogator.manufacturer'] = \"N/A\"\n",
    "    A.meta['interrogator.model'] = \"N/A\"\n",
    "    A.meta['interrogator.unit_of_measure'] = \"N/A\"\n",
    "    A.meta['interrogator.comment'] = \"N/A\"\n",
    "\n",
    "    A.meta['acquisition.acquisition_id'] = \"N/A\"\n",
    "    A.meta['acquisition.acquisition_start_time'] = \"2021-11-02T00:00:14.000000\"\n",
    "    A.meta['acquisition.acquisition_end_time'] = \"2021-11-02T00:09:14.000000\"\n",
    "    A.meta['acquisition.acquisition_sample_rate'] = 200\n",
    "    A.meta['acquisition.pulse_repetition_rate'] = \"N/A\"\n",
    "    A.meta['acquisition.interrogator_rate'] = \"N/A\"\n",
    "    A.meta['acquisition.pulse_width'] = \"N/A\"\n",
    "    A.meta['acquisition.gauge_length'] = \"N/A\"\n",
    "    A.meta['acquisition.number_of_channels'] = \"N/A\"\n",
    "    A.meta['acquisition.channel_spacing'] = \"N/A\"\n",
    "    A.meta['acquisition.archived_sample_rate'] = \"N/A\"\n",
    "    A.meta['acquisition.unit_of_measure'] = \"N/A\"\n",
    "    A.meta['acquisition.decimation'] = \"N/A\"\n",
    "    A.meta['acquisition.filtering'] = \"N/A\"\n",
    "    A.meta['acquisition.comment'] = \"N/A\"\n"
   ]
  },
  {
   "cell_type": "code",
   "execution_count": null,
   "id": "34693865",
   "metadata": {},
   "outputs": [],
   "source": [
    "tiledb.consolidate(f\"{bucket}/RawData\", ctx = ctx)"
   ]
  }
 ],
 "metadata": {
  "kernelspec": {
   "display_name": "dasnif",
   "language": "python",
   "name": "dasnif"
  },
  "language_info": {
   "codemirror_mode": {
    "name": "ipython",
    "version": 3
   },
   "file_extension": ".py",
   "mimetype": "text/x-python",
   "name": "python",
   "nbconvert_exporter": "python",
   "pygments_lexer": "ipython3",
   "version": "3.8.13"
  }
 },
 "nbformat": 4,
 "nbformat_minor": 5
}
