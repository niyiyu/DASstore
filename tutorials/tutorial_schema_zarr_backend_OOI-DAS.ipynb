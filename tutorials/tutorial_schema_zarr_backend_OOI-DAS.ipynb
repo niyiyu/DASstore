{
 "cells": [
  {
   "cell_type": "code",
   "execution_count": null,
   "id": "4ade07ef",
   "metadata": {},
   "outputs": [],
   "source": [
    "import h5py\n",
    "import zarr\n",
    "import numpy as np\n",
    "import time\n",
    "import os\n",
    "import glob\n",
    "import pandas as pd\n",
    "\n",
    "import matplotlib.pyplot as plt"
   ]
  },
  {
   "cell_type": "code",
   "execution_count": null,
   "id": "51c10c04",
   "metadata": {},
   "outputs": [],
   "source": [
    "flist = glob.glob(\"/data/data2/south-data-ejm/hdd/South-C1-LR-95km-P1kHz-GL50m-SP2m-FS200Hz_2021-11-01T16_09_15-0700/*2021-11-02*\")\n",
    "flist = sorted(flist)"
   ]
  },
  {
   "cell_type": "code",
   "execution_count": null,
   "id": "2d5fa13c",
   "metadata": {},
   "outputs": [],
   "source": [
    "bucket = f\"s3://Zarr-OOI-DAS-{chunk_size}/\"\n",
    "z = zarr.open_group(f\"{bucket}\", \n",
    "               storage_options = {\n",
    "                   # for public data (anonymous access):\n",
    "                   # \"anon\": True,\n",
    "                    \"key\": \"JFo3e3DJY2tgEMp9\",\n",
    "                    \"secret\": \"MBCJB0kLAC8SqD62YjVqDtkErcDxyadu\",\n",
    "                    \"client_kwargs\": {\n",
    "                       \"endpoint_url\": \"http://pnwstore1.ess.washington.edu:9000\"\n",
    "                   }\n",
    "               }, mode = 'a')"
   ]
  },
  {
   "cell_type": "code",
   "execution_count": null,
   "id": "0160c081",
   "metadata": {},
   "outputs": [],
   "source": [
    "# chunck size to alter\n",
    "zrawdata = z.create_dataset(\"RawData\", shape=(47500, 200*60*60*24*7), chunks=(chunk_size, 12000), dtype='i4')\n",
    "zrawdata.attrs['_ARRAY_DIMENSIONS'] = ['channel', 'time']\n",
    "zrawdata.attrs['overview.location'] = \"offshore oregon\"\n",
    "zrawdata.attrs['overview.deployment_type'] = 'temporary'\n",
    "zrawdata.attrs['overview.network'] = \"OO\"\n",
    "zrawdata.attrs['overview.site_name'] = \"regional cabled array\"\n",
    "zrawdata.attrs['overview.number_of_interrogators'] = 1\n",
    "zrawdata.attrs['overview.principle_investigators'] = \"University of Washington\"\n",
    "zrawdata.attrs['overview.start_datetime'] = \"2021-11-01\"\n",
    "zrawdata.attrs['overview.end_datetime'] = \"2021-11-07\"\n",
    "zrawdata.attrs['overview.purpose_of_collection'] = \"experiment\"\n",
    "zrawdata.attrs['overview.collection_mode'] = \"continuous\"\n",
    "zrawdata.attrs['overview.comment'] = \"N/A\"\n",
    "\n",
    "zrawdata.attrs['cable_and_fiber.cable_fiber_id'] = \"N/A\"\n",
    "zrawdata.attrs['cable_and_fiber.cable_start_time'] = \"N/A\"\n",
    "zrawdata.attrs['cable_and_fiber.cable_end_time'] = \"N/A\"\n",
    "zrawdata.attrs['cable_and_fiber.cable_characteristics'] = \"N/A\"\n",
    "zrawdata.attrs['cable_and_fiber.cable_environment'] = \"N/A\"\n",
    "zrawdata.attrs['cable_and_fiber.cable_model'] = \"N/A\"\n",
    "zrawdata.attrs['cable_and_fiber.cable_diameter'] = \"N/A\"\n",
    "zrawdata.attrs['cable_and_fiber.cable_coordinates'] = \"N/A\"\n",
    "zrawdata.attrs['cable_and_fiber.cable_connector_coordinates'] = \"N/A\"\n",
    "zrawdata.attrs['cable_and_fiber.fiber_mode'] = \"continuous\"\n",
    "zrawdata.attrs['cable_and_fiber.fiber_refraction_index'] = \"N/A\"\n",
    "zrawdata.attrs['cable_and_fiber.attenuation'] = \"N/A\"\n",
    "zrawdata.attrs['cable_and_fiber.fiber_geometry'] = \"N/A\"\n",
    "zrawdata.attrs['cable_and_fiber.winding_angle'] = \"N/A\"\n",
    "zrawdata.attrs['cable_and_fiber.fiber_start_location'] = \"N/A\"\n",
    "zrawdata.attrs['cable_and_fiber.fiber_end_location'] = \"N/A\"\n",
    "zrawdata.attrs['cable_and_fiber.fiber_length'] = \"N/A\"\n",
    "zrawdata.attrs['cable_and_fiber.comment'] = \"N/A\"\n",
    "\n",
    "zrawdata.attrs['interrogator.interrogator_id'] = \"N/A\"\n",
    "zrawdata.attrs['interrogator.manufacturer'] = \"N/A\"\n",
    "zrawdata.attrs['interrogator.model'] = \"N/A\"\n",
    "zrawdata.attrs['interrogator.unit_of_measure'] = \"N/A\"\n",
    "zrawdata.attrs['interrogator.comment'] = \"N/A\"\n",
    "\n",
    "zrawdata.attrs['acquisition.acquisition_id'] = \"N/A\"\n",
    "zrawdata.attrs['acquisition.acquisition_start_time'] = \"2021-11-02T00:00:14.000000\"\n",
    "zrawdata.attrs['acquisition.acquisition_end_time'] = \"2021-11-02T00:09:14.000000\"\n",
    "zrawdata.attrs['acquisition.acquisition_sample_rate'] = 200\n",
    "zrawdata.attrs['acquisition.pulse_repetition_rate'] = \"N/A\"\n",
    "zrawdata.attrs['acquisition.interrogator_rate'] = \"N/A\"\n",
    "zrawdata.attrs['acquisition.pulse_width'] = \"N/A\"\n",
    "zrawdata.attrs['acquisition.gauge_length'] = \"N/A\"\n",
    "zrawdata.attrs['acquisition.number_of_channels'] = \"N/A\"\n",
    "zrawdata.attrs['acquisition.channel_spacing'] = \"N/A\"\n",
    "zrawdata.attrs['acquisition.archived_sample_rate'] = \"N/A\"\n",
    "zrawdata.attrs['acquisition.unit_of_measure'] = \"N/A\"\n",
    "zrawdata.attrs['acquisition.decimation'] = \"N/A\"\n",
    "zrawdata.attrs['acquisition.filtering'] = \"N/A\"\n",
    "zrawdata.attrs['acquisition.comment'] = \"N/A\""
   ]
  },
  {
   "cell_type": "code",
   "execution_count": null,
   "id": "4013a570",
   "metadata": {},
   "outputs": [],
   "source": [
    "t0 = time.time()\n",
    "# sequentially convert 10 files\n",
    "for idf, f in enumerate(flist[:10]):\n",
    "    zname = f.split(\"_\")[-1][:-3]\n",
    "    print(f\"{idf+1}: working on {zname}\")\n",
    "    f = h5py.File(f,'r')\n",
    "\n",
    "    zrawdata[:, idf * 12000 : (idf+1) * 12000] = f['/Acquisition/Raw[0]/RawData'][:, :]\n",
    "\n",
    "    f.close()\n",
    "t1 = time.time()\n",
    "zarr.consolidate_metadata(z.store)\n",
    "print(chunk_size, (time.time() - t1), (t1 - t0))"
   ]
  },
  {
   "cell_type": "code",
   "execution_count": null,
   "id": "c6630e5b",
   "metadata": {},
   "outputs": [],
   "source": []
  }
 ],
 "metadata": {
  "kernelspec": {
   "display_name": "dasnif",
   "language": "python",
   "name": "dasnif"
  },
  "language_info": {
   "codemirror_mode": {
    "name": "ipython",
    "version": 3
   },
   "file_extension": ".py",
   "mimetype": "text/x-python",
   "name": "python",
   "nbconvert_exporter": "python",
   "pygments_lexer": "ipython3",
   "version": "3.8.13"
  }
 },
 "nbformat": 4,
 "nbformat_minor": 5
}
